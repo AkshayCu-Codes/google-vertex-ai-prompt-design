{
 "cells": [
  {
   "cell_type": "markdown",
   "metadata": {
    "id": "JAPoU8Sm5E6e"
   },
   "source": [
    "# Prompt Design - Best Practices\n",
    "\n",
    "<table align=\"left\">\n",
    "  <td style=\"text-align: center\">\n",
    "    <a href=\"https://colab.research.google.com/github/GoogleCloudPlatform/generative-ai/blob/main/gemini/prompts/intro_prompt_design.ipynb\">\n",
    "      <img src=\"https://cloud.google.com/ml-engine/images/colab-logo-32px.png\" alt=\"Google Colaboratory logo\"><br> Open in Colab\n",
    "    </a>\n",
    "  </td>\n",
    "  <td style=\"text-align: center\">\n",
    "    <a href=\"https://console.cloud.google.com/vertex-ai/colab/import/https:%2F%2Fraw.githubusercontent.com%2FGoogleCloudPlatform%2Fgenerative-ai%2Fmain%2Fgemini%2Fprompts%2Fintro_prompt_design.ipynb\">\n",
    "      <img width=\"32px\" src=\"https://lh3.googleusercontent.com/JmcxdQi-qOpctIvWKgPtrzZdJJK-J3sWE1RsfjZNwshCFgE_9fULcNpuXYTilIR2hjwN\" alt=\"Google Cloud Colab Enterprise logo\"><br> Open in Colab Enterprise\n",
    "    </a>\n",
    "  </td>    \n",
    "  <td style=\"text-align: center\">\n",
    "    <a href=\"https://console.cloud.google.com/vertex-ai/workbench/deploy-notebook?download_url=https://raw.githubusercontent.com/GoogleCloudPlatform/generative-ai/main/gemini/prompts/intro_prompt_design.ipynb\">\n",
    "      <img src=\"https://lh3.googleusercontent.com/UiNooY4LUgW_oTvpsNhPpQzsstV5W8F7rYgxgGBD85cWJoLmrOzhVs_ksK_vgx40SHs7jCqkTkCk=e14-rj-sc0xffffff-h130-w32\" alt=\"Vertex AI logo\"><br> Open in Workbench\n",
    "    </a>\n",
    "  </td>\n",
    "  <td style=\"text-align: center\">\n",
    "    <a href=\"https://github.com/GoogleCloudPlatform/generative-ai/blob/main/gemini/prompts/intro_prompt_design.ipynb\">\n",
    "      <img src=\"https://cloud.google.com/ml-engine/images/github-logo-32px.png\" alt=\"GitHub logo\"><br> View on GitHub\n",
    "    </a>\n",
    "  </td>\n",
    "  <td style=\"text-align: center\">\n",
    "    <a href=\"https://goo.gle/4fWHlze\">\n",
    "      <img width=\"32px\" src=\"https://cdn.qwiklabs.com/assets/gcp_cloud-e3a77215f0b8bfa9b3f611c0d2208c7e8708ed31.svg\" alt=\"Google Cloud logo\"><br> Open in  Cloud Skills Boost\n",
    "    </a>\n",
    "  </td>\n",
    "</table>\n",
    "\n",
    "<div style=\"clear: both;\"></div>\n",
    "\n",
    "<b>Share to:</b>\n",
    "\n",
    "<a href=\"https://www.linkedin.com/sharing/share-offsite/?url=https%3A//github.com/GoogleCloudPlatform/generative-ai/blob/main/gemini/prompts/intro_prompt_design.ipynb\" target=\"_blank\">\n",
    "  <img width=\"20px\" src=\"https://upload.wikimedia.org/wikipedia/commons/8/81/LinkedIn_icon.svg\" alt=\"LinkedIn logo\">\n",
    "</a>\n",
    "\n",
    "<a href=\"https://bsky.app/intent/compose?text=https%3A//github.com/GoogleCloudPlatform/generative-ai/blob/main/gemini/prompts/intro_prompt_design.ipynb\" target=\"_blank\">\n",
    "  <img width=\"20px\" src=\"https://upload.wikimedia.org/wikipedia/commons/7/7a/Bluesky_Logo.svg\" alt=\"Bluesky logo\">\n",
    "</a>\n",
    "\n",
    "<a href=\"https://twitter.com/intent/tweet?url=https%3A//github.com/GoogleCloudPlatform/generative-ai/blob/main/gemini/prompts/intro_prompt_design.ipynb\" target=\"_blank\">\n",
    "  <img width=\"20px\" src=\"https://upload.wikimedia.org/wikipedia/commons/5/53/X_logo_2023_original.svg\" alt=\"X logo\">\n",
    "</a>\n",
    "\n",
    "<a href=\"https://reddit.com/submit?url=https%3A//github.com/GoogleCloudPlatform/generative-ai/blob/main/gemini/prompts/intro_prompt_design.ipynb\" target=\"_blank\">\n",
    "  <img width=\"20px\" src=\"https://redditinc.com/hubfs/Reddit%20Inc/Brand/Reddit_Logo.png\" alt=\"Reddit logo\">\n",
    "</a>\n",
    "\n",
    "<a href=\"https://www.facebook.com/sharer/sharer.php?u=https%3A//github.com/GoogleCloudPlatform/generative-ai/blob/main/gemini/prompts/intro_prompt_design.ipynb\" target=\"_blank\">\n",
    "  <img width=\"20px\" src=\"https://upload.wikimedia.org/wikipedia/commons/5/51/Facebook_f_logo_%282019%29.svg\" alt=\"Facebook logo\">\n",
    "</a>            "
   ]
  },
  {
   "cell_type": "markdown",
   "metadata": {
    "id": "84f0f73a0f76"
   },
   "source": [
    "| | |\n",
    "|-|-|\n",
    "|Author(s) | [Polong Lin](https://github.com/polong-lin), [Karl Weinmeister](https://github.com/kweinmeister) |"
   ]
  },
  {
   "cell_type": "markdown",
   "metadata": {
    "id": "tvgnzT1CKxrO"
   },
   "source": [
    "## Overview\n",
    "\n",
    "This notebook covers the essentials of prompt engineering, including some best practices.\n",
    "\n",
    "Learn more about prompt design in the [official documentation](https://cloud.google.com/vertex-ai/docs/generative-ai/text/text-overview).\n",
    "\n",
    "In this notebook, you learn best practices around prompt engineering -- how to design prompts to improve the quality of your responses.\n",
    "\n",
    "This notebook covers the following best practices for prompt engineering:\n",
    "\n",
    "- Be concise\n",
    "- Be specific and well-defined\n",
    "- Ask one task at a time\n",
    "- Turn generative tasks into classification tasks\n",
    "- Improve response quality by including examples"
   ]
  },
  {
   "cell_type": "markdown",
   "metadata": {
    "id": "61RBz8LLbxCR"
   },
   "source": [
    "## Getting Started"
   ]
  },
  {
   "cell_type": "markdown",
   "metadata": {
    "id": "No17Cw5hgx12"
   },
   "source": [
    "### Install Google Gen AI SDK\n"
   ]
  },
  {
   "cell_type": "code",
   "execution_count": 1,
   "metadata": {
    "id": "tFy3H3aPgx12",
    "tags": []
   },
   "outputs": [
    {
     "name": "stdout",
     "output_type": "stream",
     "text": [
      "Note: you may need to restart the kernel to use updated packages.\n"
     ]
    }
   ],
   "source": [
    "%pip install --upgrade --quiet google-genai"
   ]
  },
  {
   "cell_type": "markdown",
   "metadata": {
    "id": "R5Xep4W9lq-Z"
   },
   "source": [
    "### Restart runtime\n",
    "\n",
    "To use the newly installed packages in this Jupyter runtime, you must restart the runtime. You can do this by running the cell below, which will restart the current kernel."
   ]
  },
  {
   "cell_type": "code",
   "execution_count": 1,
   "metadata": {
    "id": "XRvKdaPDTznN",
    "tags": []
   },
   "outputs": [
    {
     "data": {
      "text/plain": [
       "{'status': 'ok', 'restart': True}"
      ]
     },
     "execution_count": 1,
     "metadata": {},
     "output_type": "execute_result"
    }
   ],
   "source": [
    "import IPython\n",
    "\n",
    "app = IPython.Application.instance()\n",
    "app.kernel.do_shutdown(True)"
   ]
  },
  {
   "cell_type": "markdown",
   "metadata": {
    "id": "SbmM4z7FOBpM"
   },
   "source": [
    "<div class=\"alert alert-block alert-warning\">\n",
    "<b>⚠️ The kernel is going to restart. Please wait until it is finished before continuing to the next step. ⚠️</b>\n",
    "</div>\n"
   ]
  },
  {
   "cell_type": "markdown",
   "metadata": {
    "id": "dmWOrTJ3gx13"
   },
   "source": [
    "### Authenticate your notebook environment (Colab only)\n",
    "\n",
    "Authenticate your environment on Google Colab.\n"
   ]
  },
  {
   "cell_type": "code",
   "execution_count": 1,
   "metadata": {
    "id": "NyKGtVQjgx13",
    "tags": []
   },
   "outputs": [],
   "source": [
    "import sys\n",
    "\n",
    "if \"google.colab\" in sys.modules:\n",
    "    from google.colab import auth\n",
    "\n",
    "    auth.authenticate_user()"
   ]
  },
  {
   "cell_type": "markdown",
   "metadata": {
    "id": "06489bd14f16"
   },
   "source": [
    "### Import libraries\n"
   ]
  },
  {
   "cell_type": "code",
   "execution_count": 2,
   "metadata": {
    "id": "154137022fb6",
    "tags": []
   },
   "outputs": [],
   "source": [
    "from IPython.display import Markdown, display\n",
    "from google import genai\n",
    "from google.genai.types import GenerateContentConfig"
   ]
  },
  {
   "cell_type": "markdown",
   "metadata": {
    "id": "DF4l8DTdWgPY"
   },
   "source": [
    "### Set Google Cloud project information and create client\n",
    "\n",
    "To get started using Vertex AI, you must have an existing Google Cloud project and [enable the Vertex AI API](https://console.cloud.google.com/flows/enableapi?apiid=aiplatform.googleapis.com).\n",
    "\n",
    "Learn more about [setting up a project and a development environment](https://cloud.google.com/vertex-ai/docs/start/cloud-environment)."
   ]
  },
  {
   "cell_type": "code",
   "execution_count": null,
   "metadata": {
    "id": "Nqwi-5ufWp_B",
    "tags": []
   },
   "outputs": [],
   "source": [
    "import os\n",
    "\n",
    "PROJECT_ID = \"Enter-your-Project_ID\"  # @param {type: \"string\", placeholder: \"[your-project-id]\", isTemplate: true}\n",
    "if not PROJECT_ID or PROJECT_ID == \"Enter-your-Project_ID\":\n",
    "    PROJECT_ID = str(os.environ.get(\"GOOGLE_CLOUD_PROJECT\"))\n",
    "\n",
    "LOCATION = os.environ.get(\"GOOGLE_CLOUD_REGION\", \"us-west1\")"
   ]
  },
  {
   "cell_type": "code",
   "execution_count": 5,
   "metadata": {
    "id": "QqRWdPGmW3NJ",
    "tags": []
   },
   "outputs": [],
   "source": [
    "client = genai.Client(vertexai=True, project=PROJECT_ID, location=LOCATION)"
   ]
  },
  {
   "cell_type": "markdown",
   "metadata": {
    "id": "OnFPpCRtXRl4"
   },
   "source": [
    "### Load model\n",
    "\n",
    "Learn more about all [Gemini models on Vertex AI](https://cloud.google.com/vertex-ai/generative-ai/docs/learn/models#gemini-models)."
   ]
  },
  {
   "cell_type": "code",
   "execution_count": 6,
   "metadata": {
    "id": "IQYu_9SvXQah",
    "tags": []
   },
   "outputs": [],
   "source": [
    "MODEL_ID = \"gemini-2.0-flash-001\"  # @param {type: \"string\"}"
   ]
  },
  {
   "cell_type": "markdown",
   "metadata": {
    "id": "cVOtUNJ5X0PY"
   },
   "source": [
    "## Prompt engineering best practices"
   ]
  },
  {
   "cell_type": "markdown",
   "metadata": {
    "id": "uv_e0fEPX60q"
   },
   "source": [
    "Prompt engineering is all about how to design your prompts so that the response is what you were indeed hoping to see.\n",
    "\n",
    "The idea of using \"unfancy\" prompts is to minimize the noise in your prompt to reduce the possibility of the LLM misinterpreting the intent of the prompt. Below are a few guidelines on how to engineer \"unfancy\" prompts.\n",
    "\n",
    "In this section, you'll cover the following best practices when engineering prompts:\n",
    "\n",
    "* Be concise\n",
    "* Be specific, and well-defined\n",
    "* Ask one task at a time\n",
    "* Improve response quality by including examples\n",
    "* Turn generative tasks to classification tasks to improve safety"
   ]
  },
  {
   "cell_type": "markdown",
   "metadata": {
    "id": "0pY4XX0OX9_Y"
   },
   "source": [
    "### Be concise"
   ]
  },
  {
   "cell_type": "markdown",
   "metadata": {
    "id": "xlRpxyxGYA1K"
   },
   "source": [
    "🛑 Not recommended. The prompt below is unnecessarily verbose."
   ]
  },
  {
   "cell_type": "code",
   "execution_count": 9,
   "metadata": {
    "id": "YKV4G-CfXdbi",
    "tags": []
   },
   "outputs": [
    {
     "data": {
      "text/markdown": [
       "Okay, here are some ideas for a dried flower shop name, playing with different angles:\n",
       "\n",
       "**Emphasizing Longevity & Timelessness:**\n",
       "\n",
       "*   **The Everbloom:** Classic and suggests lasting beauty.\n",
       "*   **Timeless Petals:** Simple, elegant, and highlights the lasting nature.\n",
       "*   **Lasting Blooms:** Direct and clear about what you offer.\n",
       "*   **Preserved Petals:** Another clear and descriptive option.\n",
       "*   **Golden Hour Florals:** Evokes a sense of warmth, nostalgia, and lasting beauty (like the golden hour of light).\n",
       "*   **Eternally Yours:** Romantic and suggests a lasting gift.\n",
       "*   **Vintage Bloom:** Suggests the timeless quality and potentially the use of vintage or antique elements in arrangements.\n",
       "\n",
       "**Highlighting the Artistic & Unique Nature:**\n",
       "\n",
       "*   **The Dried Canvas:** Positions dried flowers as an art form.\n",
       "*   **Botanical Echoes:** Poetic and suggests the preserved essence of flowers.\n",
       "*   **The Still Life Florist:** Connects to the art genre of still life.\n",
       "*   **Pressed & Dried:** Simple, descriptive, and suggests a handmade quality.\n",
       "*   **Bloom Alchemy:** Suggests the transformation and magic of preserving flowers.\n",
       "*   **The Floral Alchemist:** A more direct version of the above.\n",
       "*   **Gathered & Dried:** Emphasizes the curated and natural aspect.\n",
       "*   **Studio Petal:** If you have a creative and artistic vibe.\n",
       "\n",
       "**Focusing on Natural & Rustic Elements:**\n",
       "\n",
       "*   **The Wildflower Keepsake:** Evokes a sense of natural beauty and memories.\n",
       "*   **Prairie Petals:** If your style is more rustic and wildflower-inspired.\n",
       "*   **The Dried Meadow:** Creates a visual of natural abundance.\n",
       "*   **Rustic Blooms:** Simple, earthy, and direct.\n",
       "*   **The Earthbound Bloom:** Connects to nature and the earth.\n",
       "*   **Sunbaked Botanicals:** Implies a natural drying process and a warm, sun-kissed aesthetic.\n",
       "\n",
       "**Modern & Minimalist:**\n",
       "\n",
       "*   **Dry Bloom:** Short, punchy, and modern.\n",
       "*   **Petal & Stem (Dried):** Simple and informative.\n",
       "*   **Bloom Archive:** Suggests a collection of preserved beauty.\n",
       "\n",
       "**Tips for Choosing:**\n",
       "\n",
       "*   **Consider your target audience:** Are you aiming for a high-end clientele or a more casual market?\n",
       "*   **Think about your brand aesthetic:** Is it modern, rustic, romantic, or something else?\n",
       "*   **Check for availability:** Make sure the name isn't already in use, and that you can get a domain name and social media handles.\n",
       "*   **Say it out loud:** Does it roll off the tongue easily? Is it memorable?\n",
       "*   **Get feedback:** Ask friends, family, and potential customers for their opinions.\n",
       "\n",
       "Ultimately, the best name will be one that reflects your unique style and resonates with your target audience. Good luck!\n"
      ],
      "text/plain": [
       "<IPython.core.display.Markdown object>"
      ]
     },
     "metadata": {},
     "output_type": "display_data"
    }
   ],
   "source": [
    "prompt = \"What do you think could be a good name for a flower shop that specializes in selling bouquets of dried flowers more than fresh flowers?\"\n",
    "\n",
    "response = client.models.generate_content(model=MODEL_ID, contents=prompt)\n",
    "display(Markdown(response.text))"
   ]
  },
  {
   "cell_type": "markdown",
   "metadata": {
    "id": "YrJexRHJYnmC"
   },
   "source": [
    "✅ Recommended. The prompt below is to the point and concise."
   ]
  },
  {
   "cell_type": "code",
   "execution_count": 10,
   "metadata": {
    "id": "VHetn9lCYrXB",
    "tags": []
   },
   "outputs": [
    {
     "data": {
      "text/markdown": [
       "Okay, here are some name suggestions for a dried flower shop, broken down by category:\n",
       "\n",
       "**Elegant & Sophisticated:**\n",
       "\n",
       "*   The Everbloom Studio\n",
       "*   Petrified Petals\n",
       "*   The Gilded Bloom\n",
       "*   Lasting Legacy Florals\n",
       "*   The Preserved Posy\n",
       "*   Elysian Everlasting\n",
       "\n",
       "**Rustic & Earthy:**\n",
       "\n",
       "*   The Dried Daisy\n",
       "*   Prairie & Petal\n",
       "*   Harvest Bloom\n",
       "*   Wilted Wildflowers\n",
       "*   The Rustic Bloom\n",
       "*   Sunbaked Stems\n",
       "\n",
       "**Modern & Minimalist:**\n",
       "\n",
       "*   Dried.\n",
       "*   The Still Life Florist\n",
       "*   Unfading\n",
       "*   Eternal Blooms\n",
       "*   Dry Goods Floral\n",
       "*   The Preservationist\n",
       "\n",
       "**Whimsical & Playful:**\n",
       "\n",
       "*   The Time Capsule Florist\n",
       "*   Petal Poetry\n",
       "*   The Bloom Alchemist\n",
       "*   Pressed & Proper\n",
       "*   The Enchanted Everlasting\n",
       "\n",
       "**Location-Specific (Adapt to your area):**\n",
       "\n",
       "*   [Your Town/Region] Dried Florals\n",
       "*   [Landmark in Your Area] Petals\n",
       "*   The [Local Feature, e.g., River] Bloom\n",
       "\n",
       "**Things to Consider When Choosing:**\n",
       "\n",
       "*   **Target Audience:** Who are you trying to attract?\n",
       "*   **Brand Personality:** What feeling do you want to evoke?\n",
       "*   **Memorability:** Is it easy to remember and pronounce?\n",
       "*   **Availability:** Is the name and domain name available?\n",
       "\n",
       "**Bonus Tip:** Check if the name is available as a website domain and social media handle before making a final decision. Good luck!\n"
      ],
      "text/plain": [
       "<IPython.core.display.Markdown object>"
      ]
     },
     "metadata": {},
     "output_type": "display_data"
    }
   ],
   "source": [
    "prompt = \"Suggest a name for a flower shop that sells bouquets of dried flowers\"\n",
    "\n",
    "response = client.models.generate_content(model=MODEL_ID, contents=prompt)\n",
    "display(Markdown(response.text))"
   ]
  },
  {
   "cell_type": "markdown",
   "metadata": {
    "id": "eXTAvdOHY0OC"
   },
   "source": [
    "### Be specific, and well-defined"
   ]
  },
  {
   "cell_type": "markdown",
   "metadata": {
    "id": "FTH4GEIgY1dp"
   },
   "source": [
    "Suppose that you want to brainstorm creative ways to describe Earth."
   ]
  },
  {
   "cell_type": "markdown",
   "metadata": {
    "id": "o5BmXBiGY4KC"
   },
   "source": [
    "🛑 The prompt below might be a bit too generic (which is certainly OK if you'd like to ask a generic question!)"
   ]
  },
  {
   "cell_type": "code",
   "execution_count": 11,
   "metadata": {
    "id": "eHBaMvv7Y6mR",
    "tags": []
   },
   "outputs": [
    {
     "data": {
      "text/markdown": [
       "Okay, let's dive into Earth! Here's a breakdown of key information about our home planet:\n",
       "\n",
       "**Basic Facts:**\n",
       "\n",
       "*   **Name:** Earth (Also called Terra)\n",
       "*   **Planet Type:** Terrestrial (rocky)\n",
       "*   **Diameter:** Approximately 12,742 kilometers (7,918 miles)\n",
       "*   **Circumference:** Approximately 40,075 kilometers (24,901 miles)\n",
       "*   **Mass:** 5.97 x 10^24 kg\n",
       "*   **Density:** 5.51 g/cm³ (Densest planet in the solar system)\n",
       "*   **Orbit:** Third planet from the Sun\n",
       "*   **Orbit Distance:** About 150 million kilometers (93 million miles) on average (1 Astronomical Unit or AU)\n",
       "*   **Orbit Period:** 365.25 Earth days (This is why we have leap years!)\n",
       "*   **Rotation Period:** 23 hours, 56 minutes, and 4 seconds (This is a sidereal day.)\n",
       "*   **Axial Tilt:** 23.5 degrees (This is what causes our seasons!)\n",
       "*   **Atmosphere:** Primarily nitrogen (78%) and oxygen (21%), with trace amounts of argon, carbon dioxide, and other gases.\n",
       "*   **Magnetic Field:** Yes, generated by the movement of molten iron in the outer core. This protects us from harmful solar radiation.\n",
       "*   **Surface:** Varied, with continents, oceans, mountains, deserts, ice caps, and more. About 71% of the Earth's surface is covered by water.\n",
       "*   **Moons:** One natural satellite, the Moon (Luna).\n",
       "*   **Rings:** None.\n",
       "*   **Temperature:** Average surface temperature is about 15°C (59°F), but varies widely depending on location and time of year.\n",
       "*   **Age:** Approximately 4.54 billion years old.\n",
       "\n",
       "**Structure:**\n",
       "\n",
       "Earth is composed of several layers:\n",
       "\n",
       "*   **Inner Core:** A solid sphere of iron and nickel, under immense pressure and heat.\n",
       "*   **Outer Core:** A liquid layer of iron and nickel. The movement of this molten metal is what generates Earth's magnetic field.\n",
       "*   **Mantle:** The thickest layer, composed mostly of silicate rocks. It's mostly solid, but has a plastic-like behavior over long periods. The uppermost part of the mantle, along with the crust, forms the lithosphere.\n",
       "*   **Crust:** The outermost layer, thin and rigid. There are two types of crust:\n",
       "    *   **Oceanic crust:** Thinner (5-10 km), denser, and primarily composed of basalt.\n",
       "    *   **Continental crust:** Thicker (30-70 km), less dense, and composed of various types of rocks, including granite.\n",
       "\n",
       "**Key Features and Processes:**\n",
       "\n",
       "*   **Plate Tectonics:** Earth's lithosphere is divided into large plates that float on the asthenosphere (a partially molten layer in the upper mantle). The movement of these plates causes earthquakes, volcanic activity, mountain building, and the formation of ocean trenches.\n",
       "*   **Water Cycle:** The continuous circulation of water between the oceans, atmosphere, and land. This cycle is driven by solar energy and includes evaporation, condensation, precipitation, and runoff.\n",
       "*   **Atmosphere and Climate:** Earth's atmosphere plays a crucial role in regulating temperature, protecting us from harmful radiation, and supporting life. The climate is influenced by factors such as solar radiation, atmospheric composition, ocean currents, and landforms.\n",
       "*   **Life:** Earth is the only known planet to harbor life. Life has profoundly shaped Earth's environment over billions of years.\n",
       "*   **Seasons:** The tilt of Earth's axis causes different parts of the planet to receive more direct sunlight at different times of the year, resulting in seasons.\n",
       "*   **Magnetic Field:** Protects the earth from solar winds and cosmic radiation.\n",
       "\n",
       "**Why Earth is Special (Habitability):**\n",
       "\n",
       "Earth has a unique combination of factors that make it habitable:\n",
       "\n",
       "*   **Distance from the Sun:** Earth is located at the right distance from the Sun to allow for liquid water to exist on its surface.\n",
       "*   **Atmosphere:** Earth's atmosphere provides a protective layer, regulates temperature, and contains the gases necessary for life.\n",
       "*   **Water:** Abundant liquid water is essential for all known forms of life.\n",
       "*   **Magnetic Field:** Shields the planet from harmful solar radiation.\n",
       "*   **Stable Climate:** Relative stability over billions of years has allowed life to evolve and flourish.\n",
       "\n",
       "**Interesting Facts:**\n",
       "\n",
       "*   Earth isn't perfectly round; it's an oblate spheroid, bulging slightly at the equator due to its rotation.\n",
       "*   The highest point on Earth is Mount Everest, and the lowest point is the Mariana Trench.\n",
       "*   Earth's rotation is gradually slowing down, causing our days to become slightly longer over time.\n",
       "*   The Earth is constantly being bombarded by space debris, most of which burns up in the atmosphere.\n",
       "\n",
       "**Ongoing Research and Exploration:**\n",
       "\n",
       "Scientists continue to study Earth to better understand its past, present, and future. This includes:\n",
       "\n",
       "*   **Climate Change:** Investigating the causes and impacts of climate change and developing strategies for mitigation and adaptation.\n",
       "*   **Geological Processes:** Studying earthquakes, volcanoes, and other geological phenomena to improve our understanding of Earth's dynamics and reduce the risks associated with natural hazards.\n",
       "*   **Ocean Exploration:** Exploring the depths of the ocean to discover new species, resources, and processes.\n",
       "*   **Space-Based Observation:** Using satellites to monitor Earth's environment, climate, and natural resources.\n",
       "\n",
       "In short, Earth is a dynamic and complex planet, a unique and precious place that we are still learning about.\n"
      ],
      "text/plain": [
       "<IPython.core.display.Markdown object>"
      ]
     },
     "metadata": {},
     "output_type": "display_data"
    }
   ],
   "source": [
    "prompt = \"Tell me about Earth\"\n",
    "\n",
    "response = client.models.generate_content(model=MODEL_ID, contents=prompt)\n",
    "display(Markdown(response.text))"
   ]
  },
  {
   "cell_type": "markdown",
   "metadata": {
    "id": "4iyvEbteZnFL"
   },
   "source": [
    "✅ Recommended. The prompt below is specific and well-defined."
   ]
  },
  {
   "cell_type": "code",
   "execution_count": 12,
   "metadata": {
    "id": "JQ80z8urZnne",
    "tags": []
   },
   "outputs": [
    {
     "data": {
      "text/markdown": [
       "Okay, here's a list of ways that Earth is unique compared to other planets we know of so far, keeping in mind that our knowledge is still limited and we are constantly discovering new exoplanets:\n",
       "\n",
       "**Key Factors Supporting Life:**\n",
       "\n",
       "*   **Liquid Water on the Surface:** This is arguably the most crucial. Earth resides in the \"Goldilocks zone\" around the Sun, where temperatures allow water to exist in a liquid state over a substantial portion of the planet. Liquid water is essential for all known life.\n",
       "*   **Oxygen-Rich Atmosphere:** Earth's atmosphere is composed of roughly 21% oxygen, which is a byproduct of photosynthetic life. While oxygen has been detected in trace amounts on other planets/moons, the abundance on Earth is unique and vital for complex life.\n",
       "*   **Plate Tectonics:** The Earth's surface is divided into plates that move and interact. This process has many important consequences:\n",
       "    *   **Carbon Cycle Regulation:** Plate tectonics help regulate the carbon cycle, preventing runaway greenhouse effects and maintaining a relatively stable climate.\n",
       "    *   **Nutrient Cycling:**  It brings nutrients from the Earth's interior to the surface, supporting life.\n",
       "    *   **Continents and Oceans:**  Plate tectonics shape the distribution of landmasses and oceans, creating diverse habitats.\n",
       "*   **Strong Magnetic Field:** Generated by the Earth's iron core, the magnetic field deflects harmful solar radiation and cosmic rays, protecting the atmosphere and life on the surface.\n",
       "*   **Stable Climate:** Compared to other planets, Earth's climate has been relatively stable over long periods, allowing life to evolve and thrive. This stability is due to a combination of factors, including the atmosphere, oceans, and plate tectonics.\n",
       "\n",
       "**Other Contributing Factors:**\n",
       "\n",
       "*   **Abundant Life (Biosphere):** Earth is the only known planet with a vast and diverse biosphere, from microscopic organisms to complex plants and animals. Life has fundamentally altered the Earth's atmosphere, geology, and chemistry.\n",
       "*   **Geological Activity:** Earth is geologically active, with volcanoes, earthquakes, and mountain building. This activity releases gases from the interior, shapes the landscape, and contributes to the cycling of elements.\n",
       "*   **Presence of a Large Moon:** The Moon stabilizes Earth's axial tilt, preventing extreme climate variations. It also plays a role in ocean tides, which may have been important for the origin of life.\n",
       "*   **Complex Ecosystems:** Earth's ecosystems are incredibly complex and interconnected, with intricate food webs and symbiotic relationships. This complexity contributes to the resilience of life on Earth.\n",
       "*   **Ozone Layer:** The ozone layer in the Earth's stratosphere absorbs most of the Sun's harmful ultraviolet radiation, protecting life from DNA damage.\n",
       "*   **Abundant Surface Water:** A significant portion of Earth's surface is covered in liquid water, forming oceans, lakes, and rivers. This water is essential for life and also influences the planet's climate.\n",
       "*   **Varied Terrain:** Mountains, valleys, plains, canyons, and trenches.\n",
       "\n",
       "**Things to keep in mind:**\n",
       "\n",
       "*   **We only know one habitable planet well: Earth.** It's possible that other planets with similar characteristics exist, but we haven't found them yet.\n",
       "*   **Our definition of \"life\" is based on Earth life.** It's possible that life could exist in forms that are fundamentally different from what we know.\n",
       "*   **Planetary science is constantly evolving.** New discoveries are being made all the time, and our understanding of what makes a planet habitable is constantly changing.\n",
       "\n",
       "This list represents our current understanding of what makes Earth unique. As we continue to explore our solar system and beyond, we may discover other planets with surprising characteristics that challenge our assumptions.\n"
      ],
      "text/plain": [
       "<IPython.core.display.Markdown object>"
      ]
     },
     "metadata": {},
     "output_type": "display_data"
    }
   ],
   "source": [
    "prompt = \"Generate a list of ways that makes Earth unique compared to other planets\"\n",
    "\n",
    "response = client.models.generate_content(model=MODEL_ID, contents=prompt)\n",
    "display(Markdown(response.text))"
   ]
  },
  {
   "cell_type": "markdown",
   "metadata": {
    "id": "R5kmfZYHZsJ7"
   },
   "source": [
    "### Ask one task at a time"
   ]
  },
  {
   "cell_type": "markdown",
   "metadata": {
    "id": "rsAezxeYZuUN"
   },
   "source": [
    "🛑 Not recommended. The prompt below has two parts to the question that could be asked separately."
   ]
  },
  {
   "cell_type": "code",
   "execution_count": 13,
   "metadata": {
    "id": "ElywPXpuZtWf",
    "tags": []
   },
   "outputs": [
    {
     "data": {
      "text/markdown": [
       "Let's tackle these two very different questions!\n",
       "\n",
       "**Best Method of Boiling Water:**\n",
       "\n",
       "There's no single \"best\" method, as it depends on factors like speed, energy source, convenience, and quantity of water. Here's a breakdown of popular methods:\n",
       "\n",
       "*   **Electric Kettle:**\n",
       "    *   **Pros:** Fastest for small to medium amounts of water.  Very energy efficient if you only boil the water you need. Convenient, automatic shut-off. Safer than stovetop.\n",
       "    *   **Cons:** Requires electricity.  Can be bulky to store.  May only boil up to a certain amount.\n",
       "\n",
       "*   **Stovetop Kettle:**\n",
       "    *   **Pros:** Relatively fast.  Works on gas, electric, or induction stoves.  No electricity needed for a gas stove during a power outage. Can handle larger volumes than some electric kettles.\n",
       "    *   **Cons:** Requires monitoring to avoid boiling dry.  Can be less energy-efficient than an electric kettle if using a large burner.\n",
       "\n",
       "*   **Microwave:**\n",
       "    *   **Pros:** Quick for very small amounts of water.  Convenient.\n",
       "    *   **Cons:** Uneven heating can occur (superheating, which is dangerous).  Not ideal for large quantities. Can make the water taste flat.\n",
       "\n",
       "*   **Stovetop Pot:**\n",
       "    *   **Pros:** Works on all stovetops. Can boil large quantities of water.\n",
       "    *   **Cons:** Slowest method. Can be energy-inefficient. Requires monitoring. Can be dangerous if you bump into the pot when its boiling.\n",
       "\n",
       "*   **Induction Cooktop:**\n",
       "    *   **Pros:** Very fast, as heat is generated directly in the pot.  Precise temperature control.  Energy-efficient.\n",
       "    *   **Cons:** Requires induction-compatible cookware. Expensive.\n",
       "\n",
       "**In summary:**\n",
       "\n",
       "*   **For speed and convenience (small to medium amounts):** Electric kettle is generally the best.\n",
       "*   **For speed and energy efficiency (with induction cookware):** Induction cooktop is a good option.\n",
       "*   **For boiling a large volume of water:** Stovetop pot.\n",
       "*   **For very small quantities and convenience:** Microwave (with caution).\n",
       "\n",
       "**Why is the sky blue?**\n",
       "\n",
       "The sky is blue due to a phenomenon called **Rayleigh scattering**. Here's the explanation:\n",
       "\n",
       "1.  **Sunlight Enters the Atmosphere:** Sunlight, which appears white, is actually composed of all the colors of the rainbow.\n",
       "\n",
       "2.  **Scattering by Air Molecules:** As sunlight enters the Earth's atmosphere, it collides with tiny air molecules (mostly nitrogen and oxygen). This collision causes the light to scatter in different directions.\n",
       "\n",
       "3.  **Shorter Wavelengths Scatter More:** The amount of scattering depends on the wavelength of the light. Shorter wavelengths of light (blue and violet) are scattered much more strongly than longer wavelengths (red and orange). Think of it like trying to throw a small ball (blue light) through a field of obstacles – it's going to bounce around a lot more than a large ball (red light).\n",
       "\n",
       "4.  **Why Blue, Not Violet?** Violet light is scattered even more than blue light. However, there are two reasons why the sky appears blue:\n",
       "    *   The sun emits less violet light than blue light.\n",
       "    *   Our eyes are more sensitive to blue light than violet light.\n",
       "\n",
       "5.  **Seeing the Scattered Light:** We see the sky as blue because we are seeing the scattered blue light from all directions.\n",
       "\n",
       "**Therefore, the sky appears blue because blue light is scattered more by air molecules in the atmosphere than other colors, and our eyes are more sensitive to blue than violet.**\n",
       "\n",
       "**Bonus:**\n",
       "\n",
       "*   **Sunsets:** Sunsets and sunrises appear red or orange because, at those times of day, the sunlight travels through a much greater distance of the atmosphere. This means that most of the blue light has been scattered away by the time the light reaches our eyes, leaving primarily the longer wavelengths (red and orange).\n"
      ],
      "text/plain": [
       "<IPython.core.display.Markdown object>"
      ]
     },
     "metadata": {},
     "output_type": "display_data"
    }
   ],
   "source": [
    "prompt = \"What's the best method of boiling water and why is the sky blue?\"\n",
    "\n",
    "response = client.models.generate_content(model=MODEL_ID, contents=prompt)\n",
    "display(Markdown(response.text))"
   ]
  },
  {
   "cell_type": "markdown",
   "metadata": {
    "id": "ejzahazBZ8vk"
   },
   "source": [
    "✅ Recommended. The prompts below asks one task a time."
   ]
  },
  {
   "cell_type": "code",
   "execution_count": 14,
   "metadata": {
    "id": "C5ckp2F0Z_Ba",
    "tags": []
   },
   "outputs": [
    {
     "data": {
      "text/markdown": [
       "The \"best\" method of boiling water depends on a few factors, including:\n",
       "\n",
       "*   **Speed:** How quickly do you need the water to boil?\n",
       "*   **Energy Efficiency:** How much energy do you want to use?\n",
       "*   **Cost:** How much do you want to spend on the equipment?\n",
       "*   **Convenience:** How easy is it to use?\n",
       "*   **Quantity:** How much water do you need to boil?\n",
       "\n",
       "Here's a breakdown of common methods:\n",
       "\n",
       "**1. Electric Kettle:**\n",
       "\n",
       "*   **Speed:** Generally the fastest method for small to medium quantities (up to 1.7 liters).\n",
       "*   **Energy Efficiency:** Very efficient. They are designed to heat only the water inside.\n",
       "*   **Cost:** Moderate to high, depending on features and brand.\n",
       "*   **Convenience:** Very convenient. Auto shut-off features make them safe and easy to use.\n",
       "*   **Quantity:** Best for smaller quantities, up to the kettle's capacity.\n",
       "*   **Overall:** A great all-around option for most people due to speed, efficiency, and convenience.\n",
       "\n",
       "**2. Stovetop Kettle (on a gas or electric range):**\n",
       "\n",
       "*   **Speed:** Can be slower than electric kettles, especially on electric coil stoves. Gas stoves are generally faster than electric coil but not as fast as an electric kettle.\n",
       "*   **Energy Efficiency:** Less efficient than electric kettles, as energy is lost to the surrounding air. Induction stovetops are more efficient than gas or electric coil.\n",
       "*   **Cost:** Kettle cost is moderate. Stovetop cost is already sunk if you have a range.\n",
       "*   **Convenience:** Requires monitoring to avoid boiling dry.\n",
       "*   **Quantity:** Suitable for various quantities, depending on kettle size.\n",
       "*   **Overall:** A decent option, especially if you already have a stovetop kettle. Induction stovetops improve efficiency.\n",
       "\n",
       "**3. Microwave:**\n",
       "\n",
       "*   **Speed:** Relatively fast for small quantities (e.g., a cup of tea).\n",
       "*   **Energy Efficiency:** Moderately efficient for small quantities. Less efficient for larger quantities.\n",
       "*   **Cost:** Low, assuming you already own a microwave.\n",
       "*   **Convenience:** Very convenient for small amounts. Can be prone to superheating (water becoming hotter than its boiling point without bubbling), which can cause it to erupt violently when disturbed.\n",
       "*   **Quantity:** Best for small quantities.\n",
       "*   **Overall:** Quick and easy for single servings, but be careful of superheating. Use a microwave-safe container and add a stir stick.\n",
       "\n",
       "**4. Hot Water Dispenser:**\n",
       "\n",
       "*   **Speed:** Instant hot water.\n",
       "*   **Energy Efficiency:** Can be efficient if you use hot water frequently. Can be less efficient if it's constantly heating water that isn't used.\n",
       "*   **Cost:** Moderate to high.\n",
       "*   **Convenience:** Extremely convenient for instant hot water.\n",
       "*   **Quantity:** Dispenses on demand.\n",
       "*   **Overall:** Ideal for heavy hot water users.\n",
       "\n",
       "**Summary Table:**\n",
       "\n",
       "| Method               | Speed        | Energy Efficiency | Cost      | Convenience | Quantity    | Notes                                                                                                                                                                                                                                                                                                                                                                                                             |\n",
       "| --------------------- | ------------ | ------------------ | --------- | ----------- | ----------- | ----------------------------------------------------------------------------------------------------------------------------------------------------------------------------------------------------------------------------------------------------------------------------------------------------------------------------------------------------------------------------------------------------------- |\n",
       "| Electric Kettle        | Fastest      | Very High          | Moderate  | Very High   | Small/Medium | Great all-around choice.                                                                                                                                                                                                                                                                                                                                                                                    |\n",
       "| Stovetop Kettle       | Medium       | Medium             | Low/Mod   | Medium      | Variable   | Use an induction stove for better efficiency.                                                                                                                                                                                                                                                                                                                                                               |\n",
       "| Microwave            | Fast (small) | Medium             | Low       | High        | Small       | Be careful of superheating. Use a microwave-safe container and a stir stick.                                                                                                                                                                                                                                                                                                                            |\n",
       "| Hot Water Dispenser | Instant      | Variable           | Moderate/High | Very High   | On Demand   | Best for frequent hot water users. Consider energy usage patterns.                                                                                                                                                                                                                                                                                                                                                 |\n",
       "\n",
       "**Conclusion:**\n",
       "\n",
       "For most people, **an electric kettle is the best all-around choice** due to its speed, energy efficiency, and convenience. If you need hot water instantly and use it frequently, a hot water dispenser might be a better fit. Microwave is the best if you need a small amount of water boiled quickly. Stovetop is a reasonable alternative to an electric kettle, especially with an induction stove.\n"
      ],
      "text/plain": [
       "<IPython.core.display.Markdown object>"
      ]
     },
     "metadata": {},
     "output_type": "display_data"
    }
   ],
   "source": [
    "prompt = \"What's the best method of boiling water?\"\n",
    "\n",
    "response = client.models.generate_content(model=MODEL_ID, contents=prompt)\n",
    "display(Markdown(response.text))"
   ]
  },
  {
   "cell_type": "code",
   "execution_count": 16,
   "metadata": {
    "id": "KwUzhud4aA89",
    "tags": []
   },
   "outputs": [
    {
     "data": {
      "text/markdown": [
       "The sky appears blue due to a phenomenon called **Rayleigh scattering**. Here's a breakdown:\n",
       "\n",
       "*   **Sunlight and its Components:** Sunlight, while appearing white, is actually composed of all the colors of the rainbow. Each color has a different wavelength. Blue and violet light have shorter wavelengths, while red and orange light have longer wavelengths.\n",
       "\n",
       "*   **Earth's Atmosphere:** The Earth's atmosphere contains many tiny particles like nitrogen and oxygen molecules.\n",
       "\n",
       "*   **Scattering:** When sunlight enters the atmosphere, it collides with these particles. This collision causes the light to scatter in different directions.\n",
       "\n",
       "*   **Rayleigh Scattering:** The amount of scattering is inversely proportional to the fourth power of the wavelength. This means shorter wavelengths (blue and violet) are scattered much more strongly than longer wavelengths (red and orange).\n",
       "\n",
       "*   **Why Blue and Not Violet?** While violet light is scattered even more than blue light, there are two reasons why we primarily see a blue sky:\n",
       "    1.  The sun emits less violet light than blue light.\n",
       "    2.  Our eyes are more sensitive to blue light than violet light.\n",
       "\n",
       "*   **The Result:** Therefore, blue light is scattered much more effectively throughout the atmosphere, making the sky appear blue from most viewing angles.\n",
       "\n",
       "**In simpler terms:** Imagine throwing different-sized balls (colors of light) at a bunch of small obstacles (air molecules). The smaller balls (blue light) will bounce off in all directions much more than the bigger balls (red light), making it seem like the whole area is filled with the smaller balls.\n",
       "\n",
       "**What about sunsets/sunrises?** At sunrise and sunset, the sunlight has to travel through more of the atmosphere to reach our eyes. This longer path means that most of the blue light has already been scattered away. The longer wavelengths, like red and orange, are less affected by scattering and can reach our eyes, giving us those beautiful colorful sunrises and sunsets.\n"
      ],
      "text/plain": [
       "<IPython.core.display.Markdown object>"
      ]
     },
     "metadata": {},
     "output_type": "display_data"
    }
   ],
   "source": [
    "prompt = \"Why is the sky blue?\"\n",
    "\n",
    "response = client.models.generate_content(model=MODEL_ID, contents=prompt)\n",
    "display(Markdown(response.text))"
   ]
  },
  {
   "cell_type": "markdown",
   "metadata": {
    "id": "PJIL2RTQaGcT"
   },
   "source": [
    "### Watch out for hallucinations"
   ]
  },
  {
   "cell_type": "markdown",
   "metadata": {
    "id": "8Y8kYxrSaHE9"
   },
   "source": [
    "Although LLMs have been trained on a large amount of data, they can generate text containing statements not grounded in truth or reality; these responses from the LLM are often referred to as \"hallucinations\" due to their limited memorization capabilities. Note that simply prompting the LLM to provide a citation isn't a fix to this problem, as there are instances of LLMs providing false or inaccurate citations. Dealing with hallucinations is a fundamental challenge of LLMs and an ongoing research area, so it is important to be cognizant that LLMs may seem to give you confident, correct-sounding statements that are in fact incorrect.\n",
    "\n",
    "Note that if you intend to use LLMs for the creative use cases, hallucinating could actually be quite useful."
   ]
  },
  {
   "cell_type": "markdown",
   "metadata": {
    "id": "8NY5nAGeaJYS"
   },
   "source": [
    "Try the prompt like the one below repeatedly. We set the temperature to `1.0` so that it takes more risks in its choices. It's possible that it may provide an inaccurate, but confident answer."
   ]
  },
  {
   "cell_type": "code",
   "execution_count": 17,
   "metadata": {
    "id": "QALPjEILaM62",
    "tags": []
   },
   "outputs": [
    {
     "data": {
      "text/markdown": [
       "Today is Wednesday, May 15, 2024.\n"
      ],
      "text/plain": [
       "<IPython.core.display.Markdown object>"
      ]
     },
     "metadata": {},
     "output_type": "display_data"
    }
   ],
   "source": [
    "generation_config = GenerateContentConfig(temperature=1.0)\n",
    "\n",
    "prompt = \"What day is it today?\"\n",
    "\n",
    "response = client.models.generate_content(model=MODEL_ID, contents=prompt)\n",
    "display(Markdown(response.text))"
   ]
  },
  {
   "cell_type": "markdown",
   "metadata": {
    "id": "BRkwzbgRbhKt"
   },
   "source": [
    "Since LLMs do not have access to real-time information without further integrations, you may have noticed it hallucinates what day it is today in some of the outputs."
   ]
  },
  {
   "cell_type": "markdown",
   "metadata": {},
   "source": [
    "## Reduce Output Variability"
   ]
  },
  {
   "cell_type": "markdown",
   "metadata": {
    "id": "3c811e310d02"
   },
   "source": [
    "### Using system instructions to guardrail the model from irrelevant responses\n",
    "\n",
    "How can we attempt to reduce the chances of irrelevant responses and hallucinations?\n",
    "\n",
    "One way is to provide the LLM with [system instructions](https://cloud.google.com/vertex-ai/generative-ai/docs/multimodal/send-chat-prompts-gemini#system-instructions).\n",
    "\n",
    "Let's see how system instructions works and how you can use them to reduce hallucinations or irrelevant questions for a travel chatbot.\n",
    "\n",
    "Suppose we ask a simple question about one of Italy's most famous tourist spots."
   ]
  },
  {
   "cell_type": "code",
   "execution_count": 21,
   "metadata": {
    "id": "rB6zJU76biFK",
    "tags": []
   },
   "outputs": [
    {
     "data": {
      "text/markdown": [
       "The Duomo di Milano, the Milan Cathedral, is a great place to see when visiting Milan, Italy. The scale of the cathedral is very impressive. You can also go to the top of the cathedral to see an awesome view of Milan.\n"
      ],
      "text/plain": [
       "<IPython.core.display.Markdown object>"
      ]
     },
     "metadata": {},
     "output_type": "display_data"
    }
   ],
   "source": [
    "generation_config = GenerateContentConfig(temperature=1.0)\n",
    "\n",
    "chat = client.chats.create(\n",
    "    model=MODEL_ID,\n",
    "    config=GenerateContentConfig(\n",
    "        system_instruction=[\n",
    "            \"Hello! You are an AI chatbot for a travel web site.\",\n",
    "            \"Your mission is to provide helpful queries for travelers.\",\n",
    "            \"Remember that before you answer a question, you must check to see if it complies with your mission.\",\n",
    "            \"If not, you can say, Sorry I can't answer that question.\",\n",
    "        ]\n",
    "    ),\n",
    ")\n",
    "\n",
    "prompt = \"What is the best place for sightseeing in Milan, Italy?\"\n",
    "\n",
    "response = chat.send_message(prompt)\n",
    "display(Markdown(response.text))"
   ]
  },
  {
   "cell_type": "markdown",
   "metadata": {
    "id": "WZa-Qcf9cF4A"
   },
   "source": [
    "Now let us pretend to be a user asks the chatbot a question that is unrelated to travel."
   ]
  },
  {
   "cell_type": "code",
   "execution_count": 22,
   "metadata": {
    "id": "AZKBIDr2cGnu",
    "tags": []
   },
   "outputs": [
    {
     "data": {
      "text/markdown": [
       "The Duomo di Milano, the Milan Cathedral, is a great place to see when visiting Milan, Italy. The scale of the cathedral is very impressive. You can also go to the top of the cathedral to see an awesome view of Milan.\n"
      ],
      "text/plain": [
       "<IPython.core.display.Markdown object>"
      ]
     },
     "metadata": {},
     "output_type": "display_data"
    }
   ],
   "source": [
    "prompt = \"What is the best place for sightseeing in Milan, Italy?\"\n",
    "\n",
    "response = chat.send_message(prompt)\n",
    "display(Markdown(response.text))"
   ]
  },
  {
   "cell_type": "markdown",
   "metadata": {
    "id": "JiUYIhwpctCy"
   },
   "source": [
    "You can see that this way, a guardrail in the prompt prevented the chatbot from veering off course."
   ]
  },
  {
   "cell_type": "markdown",
   "metadata": {
    "id": "ZuuDhA37cvmP"
   },
   "source": [
    "### Turn generative tasks into classification tasks to reduce output variability"
   ]
  },
  {
   "cell_type": "markdown",
   "metadata": {
    "id": "kUCUrsUzczmb"
   },
   "source": [
    "#### Generative tasks lead to higher output variability"
   ]
  },
  {
   "cell_type": "markdown",
   "metadata": {
    "id": "a1xASHAkc46n"
   },
   "source": [
    "The prompt below results in an open-ended response, useful for brainstorming, but response is highly variable."
   ]
  },
  {
   "cell_type": "code",
   "execution_count": 23,
   "metadata": {
    "id": "nPfXQWIacwRf",
    "tags": []
   },
   "outputs": [
    {
     "data": {
      "text/markdown": [
       "Okay, here are a few programming activity recommendations tailored for a high school student looking to improve their skills, categorized by skill level and interest:\n",
       "\n",
       "**Beginner Level (Just starting out or comfortable with basic syntax):**\n",
       "\n",
       "*   **Choose a Simple Language:** Python is generally recommended for beginners because of its readability and ease of learning.\n",
       "*   **Activity:**\n",
       "    *   **Text-Based Adventure Game:**\n",
       "        *   **Concept:** Create a simple game where the user makes choices that affect the story's outcome. Think \"Choose Your Own Adventure\" but in code.\n",
       "        *   **Skills Learned:** Conditional statements (if/else), user input, string manipulation, functions, basic logic.\n",
       "        *   **Example:**\n",
       "            ```python\n",
       "            def start_game():\n",
       "              print(\"You are standing in a dark forest.\")\n",
       "              choice = input(\"Do you go left or right? (left/right): \")\n",
       "\n",
       "              if choice == \"left\":\n",
       "                  go_left()\n",
       "              elif choice == \"right\":\n",
       "                  go_right()\n",
       "              else:\n",
       "                  print(\"Invalid choice. You stay put and get eaten by a bear.\")\n",
       "\n",
       "            def go_left():\n",
       "              print(\"You find a hidden treasure chest!\")\n",
       "              # ... more code for what happens next ...\n",
       "\n",
       "            def go_right():\n",
       "              print(\"You encounter a grumpy goblin!\")\n",
       "              # ... more code for what happens next ...\n",
       "\n",
       "            start_game()\n",
       "            ```\n",
       "    *   **Number Guessing Game:**\n",
       "        *   **Concept:** The computer picks a random number, and the user has to guess it.\n",
       "        *   **Skills Learned:** Random number generation, loops (while), conditional statements, user input.\n",
       "        *   **Example:**\n",
       "            ```python\n",
       "            import random\n",
       "\n",
       "            number = random.randint(1, 100)  # Generate a random number between 1 and 100\n",
       "            guesses_left = 7\n",
       "\n",
       "            print(\"I'm thinking of a number between 1 and 100.\")\n",
       "\n",
       "            while guesses_left > 0:\n",
       "              try:\n",
       "                guess = int(input(f\"You have {guesses_left} guesses left.  What's your guess? \"))\n",
       "              except ValueError:\n",
       "                print(\"That's not a valid number. Try again.\")\n",
       "                continue\n",
       "\n",
       "              if guess < number:\n",
       "                print(\"Too low!\")\n",
       "              elif guess > number:\n",
       "                print(\"Too high!\")\n",
       "              else:\n",
       "                print(f\"Congratulations! You guessed the number ({number}) in {7 - guesses_left + 1} guesses.\")\n",
       "                break\n",
       "\n",
       "              guesses_left -= 1\n",
       "\n",
       "            if guesses_left == 0:\n",
       "              print(f\"You ran out of guesses. The number was {number}.\")\n",
       "            ```\n",
       "\n",
       "**Intermediate Level (Comfortable with loops, functions, data structures like lists/arrays):**\n",
       "\n",
       "*   **Choose a Language:** Python is still a good option, or you might consider Java or C++ if you want to explore more complex languages and concepts.\n",
       "*   **Activity:**\n",
       "    *   **Simple Calculator:**\n",
       "        *   **Concept:** Create a calculator that can perform basic arithmetic operations (+, -, \\*, /).  Extend it to handle exponents, square roots, etc.\n",
       "        *   **Skills Learned:**  Functions, error handling (e.g., division by zero), user input validation.\n",
       "    *   **To-Do List Application:**\n",
       "        *   **Concept:** Create a program that allows users to add, delete, and view items on a to-do list.\n",
       "        *   **Skills Learned:** Lists/arrays, user input, functions, potentially file I/O (to save the list).\n",
       "        *   **Extension:** Add features like priority levels, due dates, and the ability to mark items as completed.\n",
       "    *   **Basic Web Scraper:**\n",
       "        *   **Concept:** Use a library like `requests` and `Beautiful Soup` (in Python) to extract information from a website.\n",
       "        *   **Skills Learned:**  Networking, HTML parsing, string manipulation.  *Be respectful of websites' terms of service when scraping.*\n",
       "    *   **Basic Data Analysis:** Use the pandas library in Python to analyze a CSV file containing some data.  Calculate statistics such as the mean, median, mode, standard deviation, minimum, and maximum.  You could find some free data sets on Kaggle or Google Dataset Search.\n",
       "\n",
       "**Advanced Level (Comfortable with object-oriented programming, data structures, algorithms):**\n",
       "\n",
       "*   **Choose a Language:** Java, C++, or Python (using more advanced libraries) are good choices.\n",
       "*   **Activity:**\n",
       "    *   **Simple Game with Graphics:**\n",
       "        *   **Concept:** Create a simple game like Pong, Snake, or Tetris using a graphics library (e.g., Pygame in Python, Swing in Java, SDL in C++).\n",
       "        *   **Skills Learned:** Object-oriented programming, event handling, game loops, collision detection, graphics.\n",
       "    *   **Data Structures and Algorithms Practice:**\n",
       "        *   **Concept:** Implement various data structures (e.g., linked lists, trees, graphs) and algorithms (e.g., sorting, searching, graph traversal).\n",
       "        *   **Resources:** LeetCode, HackerRank, Codewars.  These sites offer a wealth of programming challenges to test your skills.\n",
       "    *   **Machine Learning Project:**\n",
       "        *   **Concept:** Use libraries like scikit-learn (Python) to build a simple machine learning model (e.g., image classification, sentiment analysis).\n",
       "        *   **Skills Learned:** Data preprocessing, model training, model evaluation.\n",
       "    *   **Contribute to an Open-Source Project:** Find a project on GitHub that interests you and contribute by fixing bugs, adding features, or improving documentation. This is a great way to learn from experienced developers and get real-world experience.\n",
       "\n",
       "**Key Recommendations for ALL Levels:**\n",
       "\n",
       "*   **Break It Down:**  Large projects can seem daunting. Break them down into smaller, manageable tasks.\n",
       "*   **Test Frequently:**  Write and run your code in small increments.  This makes it easier to identify and fix bugs.\n",
       "*   **Google is Your Friend:** Don't be afraid to search for solutions or explanations online.  Learning to find answers is a crucial skill for programmers.\n",
       "*   **Use a Version Control System:** Learn to use Git and GitHub.  This is essential for managing your code and collaborating with others.\n",
       "*   **Document Your Code:**  Add comments to explain what your code does. This will help you understand it later and will make it easier for others to read.\n",
       "*   **Practice Regularly:** The more you code, the better you'll become. Set aside some time each day or week to work on your programming skills.\n",
       "*   **Find a Community:** Join online forums, attend meetups, or find a mentor.  Learning with others can be very helpful and motivating.\n",
       "\n",
       "**How to Choose the Right Activity:**\n",
       "\n",
       "1.  **Your Skill Level:** Be honest with yourself about your current abilities. Starting with something too difficult can be discouraging.\n",
       "2.  **Your Interests:** Choose an activity that you find interesting. You'll be more motivated to work on it and you'll learn more in the process.\n",
       "3.  **Available Resources:** Consider what resources you have available, such as books, online tutorials, and mentors.\n",
       "4.  **Time Commitment:** Be realistic about how much time you can dedicate to the activity.\n",
       "\n",
       "Good luck, and have fun learning!  Don't be afraid to experiment and try new things.\n"
      ],
      "text/plain": [
       "<IPython.core.display.Markdown object>"
      ]
     },
     "metadata": {},
     "output_type": "display_data"
    }
   ],
   "source": [
    "prompt = \"I'm a high school student. Recommend me a programming activity to improve my skills.\"\n",
    "\n",
    "response = client.models.generate_content(model=MODEL_ID, contents=prompt)\n",
    "display(Markdown(response.text))"
   ]
  },
  {
   "cell_type": "markdown",
   "metadata": {
    "id": "iAmm9wPYc_1o"
   },
   "source": [
    "#### Classification tasks reduces output variability"
   ]
  },
  {
   "cell_type": "markdown",
   "metadata": {
    "id": "VvRpK_0GdCpf"
   },
   "source": [
    "The prompt below results in a choice and may be useful if you want the output to be easier to control."
   ]
  },
  {
   "cell_type": "code",
   "execution_count": 24,
   "metadata": {
    "id": "kYDKh0r2dAqo",
    "tags": []
   },
   "outputs": [
    {
     "data": {
      "text/markdown": [
       "Okay, based on your situation as a high school student looking to learn a programming language, here's my recommendation and reasoning:\n",
       "\n",
       "**I strongly suggest you learn Python.**\n",
       "\n",
       "Here's why, with comparisons to JavaScript and Fortran:\n",
       "\n",
       "**Python - The Best Choice for a High School Student**\n",
       "\n",
       "*   **Beginner-Friendly Syntax:** Python's syntax is designed to be readable and intuitive, almost like plain English.  This makes it much easier to learn the fundamental concepts of programming (variables, loops, conditional statements, etc.) without getting bogged down in complex syntax rules.\n",
       "\n",
       "*   **Versatility:** Python is used in a *huge* variety of fields:\n",
       "    *   **Web Development (Backend):**  While not as front-end focused as JavaScript, Python with frameworks like Django and Flask can build powerful web applications.\n",
       "    *   **Data Science and Machine Learning:** This is a *massive* and growing area.  Python has libraries like NumPy, Pandas, Scikit-learn, and TensorFlow that make data analysis, visualization, and machine learning tasks relatively straightforward.  This is excellent if you have any interest in STEM fields.\n",
       "    *   **Scripting and Automation:** Python is excellent for automating tasks on your computer, like renaming files, organizing data, or even controlling hardware (like a Raspberry Pi).\n",
       "    *   **Game Development:** While not the primary language, libraries like Pygame make it possible to create 2D games.\n",
       "\n",
       "*   **Large and Supportive Community:** Because Python is so popular, there's a vast online community.  You'll find tons of tutorials, documentation, and forums where you can get help if you get stuck.\n",
       "\n",
       "*   **Excellent Educational Resources:** Many online courses, books, and tutorials are specifically designed to teach Python to beginners.  You'll have no trouble finding learning materials that suit your learning style.\n",
       "\n",
       "*   **Relevance for College and Future Careers:** If you're planning to go to college, Python is a valuable skill to have, especially in STEM fields.  Many introductory computer science courses use Python.  It's also a highly sought-after skill in many industries.\n",
       "\n",
       "**JavaScript - A Good Alternative, but Potentially More Challenging Initially**\n",
       "\n",
       "*   **Focus on Web Development (Front-End):** JavaScript is *the* language of the web browser. If you're interested in creating interactive websites, user interfaces, and web applications that run in the browser, JavaScript is essential.\n",
       "\n",
       "*   **More Complex Syntax:** JavaScript's syntax can be a bit trickier for beginners than Python's. Concepts like asynchronous programming and the Document Object Model (DOM) can be confusing at first.\n",
       "\n",
       "*   **Steeper Learning Curve (Initially):** While JavaScript is vital for web development, getting a good grasp of the basics and then moving on to frameworks like React, Angular, or Vue.js can take more time and effort than getting started with Python.\n",
       "\n",
       "*   **Good for Visual Learning:** If you're a visual learner, you might enjoy seeing immediate results in the browser as you learn JavaScript.\n",
       "\n",
       "*   **Benefits:** Creating websites can be a rewarding experience, and JavaScript opens doors to front-end web development careers.\n",
       "\n",
       "**Fortran - Generally Not Recommended for High School Students (Unless You Have a Specific Reason)**\n",
       "\n",
       "*   **Scientific and Engineering Computing:** Fortran is a very old language, but still used in specific domains like scientific simulations, weather forecasting, and high-performance computing.\n",
       "\n",
       "*   **Outdated Syntax:** Fortran's syntax is quite different from modern languages and can be challenging for beginners.\n",
       "\n",
       "*   **Smaller Community:** Compared to Python and JavaScript, the Fortran community is much smaller, making it harder to find help and resources.\n",
       "\n",
       "*   **Limited Applicability:**  Unless you're *absolutely certain* you want to work in a specific scientific field that heavily relies on Fortran, learning it in high school is probably not the best use of your time.\n",
       "\n",
       "**In summary:**\n",
       "\n",
       "*   **Learn Python first.** It's the most versatile, beginner-friendly, and widely applicable language for a high school student.\n",
       "*   **Consider JavaScript after you have some programming experience (e.g., with Python).**  It's great for web development.\n",
       "*   **Only learn Fortran if you have a very specific reason (e.g., a parent or mentor uses it heavily in their work and can guide you).**\n",
       "\n",
       "To get started with Python, I recommend:\n",
       "\n",
       "*   **Online Courses:** Codecademy, Coursera, edX, freeCodeCamp, and Khan Academy all have excellent introductory Python courses.\n",
       "*   **Books:** \"Python Crash Course\" by Eric Matthes is a highly recommended beginner-friendly book.\n",
       "*   **Practice:** The most important thing is to practice writing code!  Work through examples, solve coding challenges, and build small projects.\n",
       "\n",
       "Good luck with your programming journey!\n"
      ],
      "text/plain": [
       "<IPython.core.display.Markdown object>"
      ]
     },
     "metadata": {},
     "output_type": "display_data"
    }
   ],
   "source": [
    "prompt = \"\"\"I'm a high school student. Which of these activities do you suggest and why:\n",
    "a) learn Python\n",
    "b) learn JavaScript\n",
    "c) learn Fortran\n",
    "\"\"\"\n",
    "\n",
    "response = client.models.generate_content(model=MODEL_ID, contents=prompt)\n",
    "display(Markdown(response.text))"
   ]
  },
  {
   "cell_type": "markdown",
   "metadata": {
    "id": "iTd60b1GdIsx"
   },
   "source": [
    "### Improve response quality by including examples"
   ]
  },
  {
   "cell_type": "markdown",
   "metadata": {
    "id": "yJi44NejdJYE"
   },
   "source": [
    "Another way to improve response quality is to add examples in your prompt. The LLM learns in-context from the examples on how to respond. Typically, one to five examples (shots) are enough to improve the quality of responses. Including too many examples can cause the model to over-fit the data and reduce the quality of responses.\n",
    "\n",
    "Similar to classical model training, the quality and distribution of the examples is very important. Pick examples that are representative of the scenarios that you need the model to learn, and keep the distribution of the examples (e.g. number of examples per class in the case of classification) aligned with your actual distribution."
   ]
  },
  {
   "cell_type": "markdown",
   "metadata": {
    "id": "sMbLginWdOKs"
   },
   "source": [
    "#### Zero-shot prompt"
   ]
  },
  {
   "cell_type": "markdown",
   "metadata": {
    "id": "Crh2Loi2dQ0v"
   },
   "source": [
    "Below is an example of zero-shot prompting, where you don't provide any examples to the LLM within the prompt itself."
   ]
  },
  {
   "cell_type": "code",
   "execution_count": 25,
   "metadata": {
    "id": "-7myRc-SdTQ4",
    "tags": []
   },
   "outputs": [
    {
     "data": {
      "text/markdown": [
       "Sentiment: Positive\n"
      ],
      "text/plain": [
       "<IPython.core.display.Markdown object>"
      ]
     },
     "metadata": {},
     "output_type": "display_data"
    }
   ],
   "source": [
    "prompt = \"\"\"Decide whether a Tweet's sentiment is positive, neutral, or negative.\n",
    "\n",
    "Tweet: I loved the new YouTube video you made!\n",
    "Sentiment:\n",
    "\"\"\"\n",
    "\n",
    "response = client.models.generate_content(model=MODEL_ID, contents=prompt)\n",
    "display(Markdown(response.text))"
   ]
  },
  {
   "cell_type": "markdown",
   "metadata": {
    "id": "ucRtPn9SdL64"
   },
   "source": [
    "#### One-shot prompt"
   ]
  },
  {
   "cell_type": "markdown",
   "metadata": {
    "id": "rs0gQH2vdYBi"
   },
   "source": [
    "Below is an example of one-shot prompting, where you provide one example to the LLM within the prompt to give some guidance on what type of response you want."
   ]
  },
  {
   "cell_type": "code",
   "execution_count": 26,
   "metadata": {
    "id": "iEq-KxGYdaT5",
    "tags": []
   },
   "outputs": [
    {
     "data": {
      "text/markdown": [
       "Sentiment: negative\n"
      ],
      "text/plain": [
       "<IPython.core.display.Markdown object>"
      ]
     },
     "metadata": {},
     "output_type": "display_data"
    }
   ],
   "source": [
    "prompt = \"\"\"Decide whether a Tweet's sentiment is positive, neutral, or negative.\n",
    "\n",
    "Tweet: I loved the new YouTube video you made!\n",
    "Sentiment: positive\n",
    "\n",
    "Tweet: That was awful. Super boring 😠\n",
    "Sentiment:\n",
    "\"\"\"\n",
    "\n",
    "response = client.models.generate_content(model=MODEL_ID, contents=prompt)\n",
    "display(Markdown(response.text))"
   ]
  },
  {
   "cell_type": "markdown",
   "metadata": {
    "id": "JnKLjJzmdfL_"
   },
   "source": [
    "#### Few-shot prompt"
   ]
  },
  {
   "cell_type": "markdown",
   "metadata": {
    "id": "6Zv-9F5OdgI_"
   },
   "source": [
    "Below is an example of few-shot prompting, where you provide a few examples to the LLM within the prompt to give some guidance on what type of response you want."
   ]
  },
  {
   "cell_type": "code",
   "execution_count": 27,
   "metadata": {
    "id": "u37P9tG4dk9S",
    "tags": []
   },
   "outputs": [
    {
     "data": {
      "text/markdown": [
       "Sentiment: positive\n"
      ],
      "text/plain": [
       "<IPython.core.display.Markdown object>"
      ]
     },
     "metadata": {},
     "output_type": "display_data"
    }
   ],
   "source": [
    "prompt = \"\"\"Decide whether a Tweet's sentiment is positive, neutral, or negative.\n",
    "\n",
    "Tweet: I loved the new YouTube video you made!\n",
    "Sentiment: positive\n",
    "\n",
    "Tweet: That was awful. Super boring 😠\n",
    "Sentiment: negative\n",
    "\n",
    "Tweet: Something surprised me about this video - it was actually original. It was not the same old recycled stuff that I always see. Watch it - you will not regret it.\n",
    "Sentiment:\n",
    "\"\"\"\n",
    "\n",
    "response = client.models.generate_content(model=MODEL_ID, contents=prompt)\n",
    "display(Markdown(response.text))"
   ]
  },
  {
   "cell_type": "markdown",
   "metadata": {
    "id": "wDMD3xb2dvX6",
    "tags": []
   },
   "source": [
    "#### Choosing between zero-shot, one-shot, few-shot prompting methods"
   ]
  },
  {
   "cell_type": "markdown",
   "metadata": {
    "id": "s92W0YpNdxJp"
   },
   "source": [
    "Which prompt technique to use will solely depends on your goal. The zero-shot prompts are more open-ended and can give you creative answers, while one-shot and few-shot prompts teach the model how to behave so you can get more predictable answers that are consistent with the examples provided."
   ]
  },
  {
   "cell_type": "code",
   "execution_count": null,
   "metadata": {},
   "outputs": [],
   "source": []
  }
 ],
 "metadata": {
  "colab": {
   "name": "intro_prompt_design.ipynb",
   "toc_visible": true
  },
  "environment": {
   "kernel": "conda-base-py",
   "name": "workbench-notebooks.m129",
   "type": "gcloud",
   "uri": "us-docker.pkg.dev/deeplearning-platform-release/gcr.io/workbench-notebooks:m129"
  },
  "kernelspec": {
   "display_name": "Python 3 (ipykernel) (Local) (Local)",
   "language": "python",
   "name": "conda-base-py"
  },
  "language_info": {
   "codemirror_mode": {
    "name": "ipython",
    "version": 3
   },
   "file_extension": ".py",
   "mimetype": "text/x-python",
   "name": "python",
   "nbconvert_exporter": "python",
   "pygments_lexer": "ipython3",
   "version": "3.10.16"
  }
 },
 "nbformat": 4,
 "nbformat_minor": 4
}
